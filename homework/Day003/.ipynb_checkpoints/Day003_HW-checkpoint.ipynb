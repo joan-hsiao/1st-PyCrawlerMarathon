{
 "cells": [
  {
   "cell_type": "markdown",
   "metadata": {},
   "source": [
    "# Python 下載XML檔案與解析\n",
    "\n",
    "\n",
    "* 了解 xml 檔案格式與內容\n",
    "* 能夠利用套件存取 xml 格式的檔案\n"
   ]
  },
  {
   "cell_type": "markdown",
   "metadata": {},
   "source": [
    "## 作業目標\n",
    "\n",
    "* 比較一下範例檔案中的「File I/O」與「xmltodict」讀出來的內容有什麼差異\n",
    "\n",
    "* 根據範例檔案的結果：\n",
    "    1. 請問高雄市有多少地區有溫度資料？\n",
    "    2. 請取出每一個地區所記錄的第一個時間點跟溫度\n",
    "    3. 請取出第一個地區所記錄的每一個時間點跟溫度"
   ]
  },
  {
   "cell_type": "markdown",
   "metadata": {},
   "source": [
    "### 比較一下範例檔案中的「File I/O」與「xmltodict」讀出來的內容有什麼差異\n"
   ]
  },
  {
   "cell_type": "code",
   "execution_count": null,
   "metadata": {},
   "outputs": [],
   "source": [
    "'''\n",
    "Your Code\n",
    "'''"
   ]
  },
  {
   "cell_type": "markdown",
   "metadata": {},
   "source": [
    "### 根據範例檔案的結果：\n",
    "\n",
    "1. 請問高雄市有多少地區有溫度資料？\n",
    "2. 請取出每一個地區所記錄的第一個時間點跟溫度\n",
    "3. 請取出第一個地區所記錄的每一個時間點跟溫度"
   ]
  },
  {
   "cell_type": "code",
   "execution_count": 194,
   "metadata": {},
   "outputs": [
    {
     "name": "stdout",
     "output_type": "stream",
     "text": [
      "38\n"
     ]
    }
   ],
   "source": [
    "# 1. 請問高雄市有多少地區有溫度資料？\n",
    "\n",
    "# open('./data/64_72hr_CH.xml', encoding = 'utf8')\n",
    "# datalists = d['cwbopendata']['dataset']['locations']['location'][0]['weatherElement']\n",
    "\n",
    "import xmltodict\n",
    "\n",
    "# 存取檔案\n",
    "with open('./data/64_72hr_CH.xml', encoding = 'utf8') as fd:\n",
    "    doc = dict(xmltodict.parse(fd.read()))\n",
    "\n",
    "# 用迴圈存取我們的資訊\n",
    "chapters = doc['cwbopendata']['dataset']['locations']['location']\n",
    "count = sum(1 for _ in chapters)\n",
    "print(count)\n"
   ]
  },
  {
   "cell_type": "code",
   "execution_count": 256,
   "metadata": {},
   "outputs": [
    {
     "name": "stdout",
     "output_type": "stream",
     "text": [
      "0 鹽埕區\n",
      "2019-06-28T12:00:00+08:00 攝氏度 33\n",
      "1 鼓山區\n",
      "2019-06-28T12:00:00+08:00 攝氏度 33\n",
      "2 左營區\n",
      "2019-06-28T12:00:00+08:00 攝氏度 33\n",
      "3 楠梓區\n",
      "2019-06-28T12:00:00+08:00 攝氏度 34\n",
      "4 三民區\n",
      "2019-06-28T12:00:00+08:00 攝氏度 32\n",
      "5 新興區\n",
      "2019-06-28T12:00:00+08:00 攝氏度 33\n",
      "6 前金區\n",
      "2019-06-28T12:00:00+08:00 攝氏度 33\n",
      "7 苓雅區\n",
      "2019-06-28T12:00:00+08:00 攝氏度 33\n",
      "8 前鎮區\n",
      "2019-06-28T12:00:00+08:00 攝氏度 33\n",
      "9 旗津區\n",
      "2019-06-28T12:00:00+08:00 攝氏度 32\n",
      "10 小港區\n",
      "2019-06-28T12:00:00+08:00 攝氏度 33\n",
      "11 鳳山區\n",
      "2019-06-28T12:00:00+08:00 攝氏度 34\n",
      "12 林園區\n",
      "2019-06-28T12:00:00+08:00 攝氏度 33\n",
      "13 大寮區\n",
      "2019-06-28T12:00:00+08:00 攝氏度 34\n",
      "14 大樹區\n",
      "2019-06-28T12:00:00+08:00 攝氏度 34\n",
      "15 大社區\n",
      "2019-06-28T12:00:00+08:00 攝氏度 34\n",
      "16 仁武區\n",
      "2019-06-28T12:00:00+08:00 攝氏度 33\n",
      "17 鳥松區\n",
      "2019-06-28T12:00:00+08:00 攝氏度 34\n",
      "18 岡山區\n",
      "2019-06-28T12:00:00+08:00 攝氏度 34\n",
      "19 橋頭區\n",
      "2019-06-28T12:00:00+08:00 攝氏度 35\n",
      "20 燕巢區\n",
      "2019-06-28T12:00:00+08:00 攝氏度 34\n",
      "21 田寮區\n",
      "2019-06-28T12:00:00+08:00 攝氏度 34\n",
      "22 阿蓮區\n",
      "2019-06-28T12:00:00+08:00 攝氏度 34\n",
      "23 路竹區\n",
      "2019-06-28T12:00:00+08:00 攝氏度 33\n",
      "24 湖內區\n",
      "2019-06-28T12:00:00+08:00 攝氏度 33\n",
      "25 茄萣區\n",
      "2019-06-28T12:00:00+08:00 攝氏度 33\n",
      "26 永安區\n",
      "2019-06-28T12:00:00+08:00 攝氏度 32\n",
      "27 彌陀區\n",
      "2019-06-28T12:00:00+08:00 攝氏度 32\n",
      "28 梓官區\n",
      "2019-06-28T12:00:00+08:00 攝氏度 32\n",
      "29 旗山區\n",
      "2019-06-28T12:00:00+08:00 攝氏度 34\n",
      "30 美濃區\n",
      "2019-06-28T12:00:00+08:00 攝氏度 34\n",
      "31 六龜區\n",
      "2019-06-28T12:00:00+08:00 攝氏度 34\n",
      "32 甲仙區\n",
      "2019-06-28T12:00:00+08:00 攝氏度 33\n",
      "33 杉林區\n",
      "2019-06-28T12:00:00+08:00 攝氏度 36\n",
      "34 內門區\n",
      "2019-06-28T12:00:00+08:00 攝氏度 34\n",
      "35 茂林區\n",
      "2019-06-28T12:00:00+08:00 攝氏度 34\n",
      "36 桃源區\n",
      "2019-06-28T12:00:00+08:00 攝氏度 31\n",
      "37 那瑪夏區\n",
      "2019-06-28T12:00:00+08:00 攝氏度 29\n"
     ]
    }
   ],
   "source": [
    "# 2. 請取出每一個地區所記錄的第一個時間點跟溫度\n",
    "i = 0\n",
    "while i <= 37:\n",
    "    each_chapters = doc['cwbopendata']['dataset']['locations']['location'][i]['locationName']\n",
    "    print(i, each_chapters)\n",
    "    \n",
    "    chapter1 = doc['cwbopendata']['dataset']['locations']['location'][i]['weatherElement'][0]['time'][0]['dataTime']\n",
    "    chapter2 = doc['cwbopendata']['dataset']['locations']['location'][i]['weatherElement'][0]['time'][0]['elementValue']['measures']\n",
    "    chapter3 = doc['cwbopendata']['dataset']['locations']['location'][i]['weatherElement'][0]['time'][0]['elementValue']['value']\n",
    "    print(chapter1,chapter2,chapter3)\n",
    "    \n",
    "    i = i + 1"
   ]
  },
  {
   "cell_type": "code",
   "execution_count": 246,
   "metadata": {},
   "outputs": [
    {
     "name": "stdout",
     "output_type": "stream",
     "text": [
      "鹽埕區\n",
      "2019-06-28T12:00:00+08:00 攝氏度 33\n",
      "2019-06-28T15:00:00+08:00 攝氏度 33\n",
      "2019-06-28T18:00:00+08:00 攝氏度 32\n",
      "2019-06-28T21:00:00+08:00 攝氏度 30\n",
      "2019-06-29T00:00:00+08:00 攝氏度 30\n",
      "2019-06-29T03:00:00+08:00 攝氏度 29\n",
      "2019-06-29T06:00:00+08:00 攝氏度 28\n",
      "2019-06-29T09:00:00+08:00 攝氏度 31\n",
      "2019-06-29T12:00:00+08:00 攝氏度 32\n",
      "2019-06-29T15:00:00+08:00 攝氏度 32\n",
      "2019-06-29T18:00:00+08:00 攝氏度 31\n",
      "2019-06-29T21:00:00+08:00 攝氏度 30\n",
      "2019-06-30T00:00:00+08:00 攝氏度 29\n",
      "2019-06-30T03:00:00+08:00 攝氏度 28\n",
      "2019-06-30T06:00:00+08:00 攝氏度 28\n",
      "2019-06-30T09:00:00+08:00 攝氏度 31\n",
      "2019-06-30T12:00:00+08:00 攝氏度 32\n",
      "2019-06-30T15:00:00+08:00 攝氏度 32\n",
      "2019-06-30T18:00:00+08:00 攝氏度 31\n",
      "2019-06-30T21:00:00+08:00 攝氏度 30\n",
      "2019-07-01T00:00:00+08:00 攝氏度 29\n",
      "2019-07-01T03:00:00+08:00 攝氏度 29\n",
      "2019-07-01T06:00:00+08:00 攝氏度 28\n",
      "2019-07-01T09:00:00+08:00 攝氏度 31\n"
     ]
    }
   ],
   "source": [
    "# 3. 請取出第一個地區所記錄的每一個時間點跟溫度\n",
    "\n",
    "first_chapters = doc['cwbopendata']['dataset']['locations']['location'][0]['weatherElement'][0]['time']\n",
    "print(doc['cwbopendata']['dataset']['locations']['location'][0]['locationName'])\n",
    "for chapter in first_chapters:\n",
    "    print(chapter['dataTime'],chapter['elementValue']['measures'],chapter['elementValue']['value'])\n"
   ]
  },
  {
   "cell_type": "code",
   "execution_count": null,
   "metadata": {},
   "outputs": [],
   "source": []
  }
 ],
 "metadata": {
  "kernelspec": {
   "display_name": "Python 3",
   "language": "python",
   "name": "python3"
  },
  "language_info": {
   "codemirror_mode": {
    "name": "ipython",
    "version": 3
   },
   "file_extension": ".py",
   "mimetype": "text/x-python",
   "name": "python",
   "nbconvert_exporter": "python",
   "pygments_lexer": "ipython3",
   "version": "3.6.5"
  }
 },
 "nbformat": 4,
 "nbformat_minor": 2
}
