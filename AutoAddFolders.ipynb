{
 "cells": [
  {
   "cell_type": "code",
   "execution_count": 2,
   "metadata": {},
   "outputs": [
    {
     "name": "stdout",
     "output_type": "stream",
     "text": [
      "001\n",
      "002\n",
      "003\n",
      "004\n",
      "005\n",
      "006\n",
      "007\n",
      "008\n",
      "009\n"
     ]
    }
   ],
   "source": [
    "\"\"\"\n",
    "如果指定目錄不存在就建立目錄\n",
    "要不然的話就直接開檔案\n",
    "\"\"\"\n",
    "\n",
    "import os\n",
    "\n",
    "# range()函式可以很有效率地協助我們創建一個整數序列，用法為 (起始值, 終止值, 遞增(減)值)\n",
    "for i in range(1, 10):\n",
    "    counter = '00' + str(i)\n",
    "    print(counter)\n",
    "    \n",
    "    path = (r'C:\\Users\\paran\\Documents\\GitHub\\1st-PyCrawlerMarathon\\homework\\Day_' + counter)\n",
    "    if not os.path.isdir(path):\n",
    "        os.mkdir(path)\n",
    "        # file = open(path + \"\\\\\" + \"我要開檔案.txt\", \"w\")"
   ]
  },
  {
   "cell_type": "code",
   "execution_count": null,
   "metadata": {},
   "outputs": [],
   "source": []
  }
 ],
 "metadata": {
  "kernelspec": {
   "display_name": "Python 3",
   "language": "python",
   "name": "python3"
  },
  "language_info": {
   "codemirror_mode": {
    "name": "ipython",
    "version": 3
   },
   "file_extension": ".py",
   "mimetype": "text/x-python",
   "name": "python",
   "nbconvert_exporter": "python",
   "pygments_lexer": "ipython3",
   "version": "3.6.5"
  }
 },
 "nbformat": 4,
 "nbformat_minor": 2
}
